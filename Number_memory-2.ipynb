{
  "nbformat": 4,
  "nbformat_minor": 0,
  "metadata": {
    "colab": {
      "name": "Number_memory.ipynb",
      "provenance": []
    },
    "kernelspec": {
      "name": "python3",
      "display_name": "Python 3"
    },
    "language_info": {
      "name": "python"
    }
  },
  "cells": [
    {
      "cell_type": "code",
      "metadata": {
        "id": "xJREnB56r_Gm"
      },
      "source": [
        "import random \n",
        "import time \n",
        "a = random.randint(1,9)\n",
        "print(a)\n",
        "time.sleep(5)\n",
        "answer1 = int(input())\n",
        "if answer1 == a:\n",
        "  print('correct')\n",
        "  b = random.randint(10,99)\n",
        "  print(a)\n",
        "  time.sleep(5)\n",
        "  answer = int(input()) \n",
        "else: \n",
        "  print('That does not match. Please try again')\n",
        "  if answer == a:\n",
        "    print('correct')\n",
        "if answer == b:\n",
        "  print('correct')\n",
        "  b = random.randint(100,999)\n",
        "  print(b)\n",
        "  time.sleep(5)\n",
        "  answer = int(input()) \n",
        "else: \n",
        "  print('That does not match. Please try again')\n",
        "  if answer == a:\n",
        "    print('correct')    \n",
        "  "
      ],
      "execution_count": null,
      "outputs": []
    }
  ]
}