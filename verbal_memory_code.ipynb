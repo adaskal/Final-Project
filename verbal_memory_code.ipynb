{
  "nbformat": 4,
  "nbformat_minor": 0,
  "metadata": {
    "colab": {
      "name": "verbal memory code.ipynb",
      "provenance": [],
      "collapsed_sections": []
    },
    "kernelspec": {
      "name": "python3",
      "display_name": "Python 3"
    },
    "language_info": {
      "name": "python"
    }
  },
  "cells": [
    {
      "cell_type": "code",
      "metadata": {
        "id": "tIpmQSepfh1u"
      },
      "source": [
        "import random\n",
        "from time import sleep\n",
        "from IPython.display import clear_output "
      ],
      "execution_count": 77,
      "outputs": []
    },
    {
      "cell_type": "code",
      "metadata": {
        "id": "OFADKikMc1QK"
      },
      "source": [
        "word_bank = [\"length\",\"drawer\",\"dealer\",\"theory\",\"area\",\"advice\",\"guest\",\"county\",\"tooth\",\"power\",\"breath\",\"son\",\"loss\",\"method\",\"city\",\"depth\",\"orange\",\"child\",\"wealth\",\"dinner\",\"goal\",\"road\",\"volume\",\"exam\",\"wife\",\"meat\",\"music\",\"blood\",\"singer\",\"mall\",\"basket\",\"idea\",\"dirt\",\"cell\",\"policy\",\"way\",\"art\",\"player\",\"recipe\",\"girl\",\"bath\",\"throat\",\"lake\",\"nurture\",\"ear\",\"death\",\"bird\",\"speech\",\"flight\",\"thanks\"] #list of 50 randomly generated words\n",
        "random_word = random.choice(word_bank),random.choice(word_bank), random.choice(word_bank), random.choice(word_bank), random.choice(word_bank), random.choice(word_bank), random.choice(word_bank), random.choice(word_bank), random.choice(word_bank), random.choice(word_bank) #pulls 10 random words from list of 50 words\n",
        "print(random_word) #print the list of random words\n",
        "sleep(5) #waits for 5 seconds\n",
        "clear_output() #clear output so that participant has to remember the word list\n"
      ],
      "execution_count": 78,
      "outputs": []
    },
    {
      "cell_type": "code",
      "metadata": {
        "id": "HbhtiX4Ff0ES"
      },
      "source": [
        "new_random_word = [\"son\", \"recipe\", \"flight\", \"way\", \"advice\", \"throat\", \"blood\", \"guest\", \"length\", \"goal\"]\n",
        "random_word = [\"breath\", \"son\", \"nurture\", \"girl\", \"nurture\", \"thanks\", \"bird\", \"dirt\", \"policy\", \"speech\"]\n",
        " \n",
        "def tf_quiz(new_random_word, random_word): #define new function with new_random_word and random_word as inputs\n",
        "    for word in new_random_word:\n",
        "      print(word) #print word\n",
        "      val = input(\"(T/F)\")\n",
        "      if val == \"T\":\n",
        "        return(\"correct\")\n",
        "      elif val == \"F\":\n",
        "        return(\"incorrect\")\n",
        "      elif val == \"t\":\n",
        "        return(\"correct\")\n",
        "      elif val == \"f\":\n",
        "        return(\"incorrect\")\n",
        "      else:\n",
        "        return(\"Please press T or F\")\n",
        "      if random_word.count[word] > 0: #if word is within random_word\n",
        "        X = \"T\"\n",
        "        if input(\"T\"):\n",
        "          print(\"Correct\")\n",
        "        elif input(\"F\"):\n",
        "          print(\"Incorrect\")\n",
        "      elif random_word.count[word] == 0: #if word is not within random_word\n",
        "        X = \"F\"\n",
        "        if input(\"T\"):\n",
        "          print(\"Incorrect\")\n",
        "        elif input(\"F\"):\n",
        "          print(\"Correct\")"
      ],
      "execution_count": 71,
      "outputs": []
    },
    {
      "cell_type": "code",
      "metadata": {
        "id": "mtwrVxIPlrfF",
        "colab": {
          "base_uri": "https://localhost:8080/"
        },
        "outputId": "b34f9d90-a1b3-4d08-99ce-2e0359fb4db0"
      },
      "source": [
        "#establish what is true and false\n",
        "#compare random_word to new_random_word\n",
        "#generate vector of True/False with length 10\n",
        "#Clauses: input is True\n",
        "          #ans is True\n",
        "          #return \"Correct\"\n",
        "\n",
        "          #input is False\n",
        "          #ans is False\n",
        "          #return \"Correct\"\n",
        "\n",
        "          #input is True\n",
        "          #ans is False\n",
        "          #return \"Incorrect\"\n",
        "\n",
        "          #input is False\n",
        "          #ans is True\n",
        "          #return \"Incorrect\"\n",
        "\n",
        "\n",
        "new_random_word = random.choice(word_bank),random.choice(word_bank), random.choice(word_bank), random.choice(word_bank), random.choice(word_bank), random.choice(word_bank), random.choice(word_bank), random.choice(word_bank), random.choice(word_bank), random.choice(word_bank)\n",
        "\n",
        " \n",
        "def tf_quiz(new_random_word, random_word): #define new function with new_random_word and random_word as inputs\n",
        "    for word in new_random_word:\n",
        "      print(word) #print word\n",
        "      val = input(\"(T/F):\")\n",
        "      if val == \"T\":\n",
        "        print(\"correct\")\n",
        "      elif val == \"F\":\n",
        "        print(\"incorrect\")\n",
        "      elif val == \"t\":\n",
        "        print(\"correct\")\n",
        "      elif val == \"f\":\n",
        "        print(\"incorrect\")\n",
        "      else:\n",
        "        print(\"Please press T or F\")\n",
        "      if random_word.count[word] > 0: #if word is within random_word\n",
        "        X = \"T\"\n",
        "        if input(\"T\"):\n",
        "          print(\"Correct\")\n",
        "        elif input(\"F\"):\n",
        "          print(\"Incorrect\")\n",
        "      elif random_word.count[word] == 0: #if word is not within random_word\n",
        "        X = \"F\"\n",
        "        if input(\"T\"):\n",
        "          print(\"Incorrect\")\n",
        "        elif input(\"F\"):\n",
        "          print(\"Correct\")\n",
        "\n",
        "print(new_random_word)\n",
        "      "
      ],
      "execution_count": 76,
      "outputs": [
        {
          "output_type": "stream",
          "text": [
            "('wife', 'wife', 'depth', 'dirt', 'cell', 'tooth', 'dealer', 'guest', 'depth', 'wealth')\n"
          ],
          "name": "stdout"
        }
      ]
    }
  ]
}