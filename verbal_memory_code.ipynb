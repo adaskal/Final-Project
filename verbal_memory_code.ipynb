{
  "nbformat": 4,
  "nbformat_minor": 0,
  "metadata": {
    "colab": {
      "name": "verbal memory code.ipynb",
      "provenance": [],
      "collapsed_sections": []
    },
    "kernelspec": {
      "name": "python3",
      "display_name": "Python 3"
    },
    "language_info": {
      "name": "python"
    }
  },
  "cells": [
    {
      "cell_type": "code",
      "metadata": {
        "id": "tIpmQSepfh1u"
      },
      "source": [
        "import random\n",
        "from time import sleep\n",
        "from IPython.display import clear_output "
      ],
      "execution_count": null,
      "outputs": []
    },
    {
      "cell_type": "code",
      "metadata": {
        "id": "OFADKikMc1QK"
      },
      "source": [
        "word_bank = [\"length\",\"drawer\",\"dealer\",\"theory\",\"area\",\"advice\",\"guest\",\"county\",\"tooth\",\"power\",\"breath\",\"son\",\"loss\",\"method\",\"city\",\"depth\",\"orange\",\"child\",\"wealth\",\"dinner\",\"goal\",\"road\",\"volume\",\"exam\",\"wife\",\"meat\",\"music\",\"blood\",\"singer\",\"mall\",\"basket\",\"idea\",\"dirt\",\"cell\",\"policy\",\"way\",\"art\",\"player\",\"recipe\",\"girl\",\"bath\",\"throat\",\"lake\",\"nurture\",\"ear\",\"death\",\"bird\",\"speech\",\"flight\",\"thanks\"] #list of 50 randomly generated words\n",
        "random_word = random.choice(word_bank),random.choice(word_bank), random.choice(word_bank), random.choice(word_bank), random.choice(word_bank), random.choice(word_bank), random.choice(word_bank), random.choice(word_bank), random.choice(word_bank), random.choice(word_bank) #pulls 10 random words from list of 50 words\n",
        "print(random_word) #print the list of random words\n",
        "sleep(8) #waits for 8 seconds\n",
        "clear_output() #clear output so that participant has to remember the word list\n"
      ],
      "execution_count": 130,
      "outputs": []
    },
    {
      "cell_type": "code",
      "metadata": {
        "id": "mtwrVxIPlrfF",
        "colab": {
          "base_uri": "https://localhost:8080/"
        },
        "outputId": "8c12c5dc-27ad-4f9f-96dd-130160062f0f"
      },
      "source": [
        "#establish what is true and false\n",
        "#compare random_word to new_random_word\n",
        "#generate vector of True/False with length 10\n",
        "#Clauses: input is True\n",
        "          #ans is True\n",
        "          #return \"Correct\"\n",
        "\n",
        "          #input is False\n",
        "          #ans is False\n",
        "          #return \"Correct\"\n",
        "\n",
        "          #input is True\n",
        "          #ans is False\n",
        "          #return \"Incorrect\"\n",
        "\n",
        "          #input is False\n",
        "          #ans is True\n",
        "          #return \"Incorrect\"\n",
        "\n",
        "\n",
        "new_random_word = random.choice(word_bank),random.choice(word_bank), random.choice(word_bank), random.choice(word_bank), random.choice(word_bank), random.choice(word_bank), random.choice(word_bank), random.choice(word_bank), random.choice(word_bank), random.choice(word_bank)\n",
        "\n",
        " \n",
        "def tf_quiz(new_random_word, random_word): #define new function with new_random_word and random_word as inputs\n",
        "    for word in new_random_word: #iterate through new_random_word\n",
        "      print(word) #print word\n",
        "      val = input('(T/F):') #create variable which displays prompt and asks for input\n",
        "      if random_word.count(word) > 0: #if word is within random_word\n",
        "        X = \"T\" #if correct answer is true\n",
        "        if val == \"T\": #if player's answer is true\n",
        "          print(\"CORRECT\") #print \"correct\"\n",
        "        elif val == \"t\":\n",
        "          print(\"CORRECT\") #print \"correct\"\n",
        "        elif val ==\"F\": #if player's answer is false\n",
        "          print(\"INCORRECT\") #print \"incorrect\"\n",
        "        elif val ==\"f\":\n",
        "          print(\"INCORRECT\") #print \"incorrect\"\n",
        "        else:\n",
        "          print(\"Please press T (True) or F (False)\")\n",
        "      elif random_word.count(word) == 0: #if word is not within random_word\n",
        "        X = \"F\" #if player's answer is false\n",
        "        if val == \"T\": #if player's answer is true\n",
        "          print(\"INCORRECT\") #print \"incorrect\"\n",
        "        elif val == \"t\":\n",
        "          print(\"INCORRECT\") #print \"incorrect\"\n",
        "        elif val == \"F\": #if player's answer is false\n",
        "          print(\"CORRECT\") #print \"correct\"\n",
        "        elif val ==\"f\":\n",
        "          print(\"CORRECT\") #print \"correct\"\n",
        "        else:\n",
        "          print(\"Please press T (True) or F (False)\")\n",
        "\n",
        "tf_quiz(new_random_word, random_word)"
      ],
      "execution_count": 131,
      "outputs": [
        {
          "output_type": "stream",
          "text": [
            "breath\n",
            "(T/F):f\n",
            "CORRECT\n",
            "city\n",
            "(T/F):t\n",
            "CORRECT\n",
            "wealth\n",
            "(T/F):t\n",
            "INCORRECT\n",
            "tooth\n",
            "(T/F):f\n",
            "CORRECT\n",
            "thanks\n",
            "(T/F):f\n",
            "CORRECT\n",
            "blood\n",
            "(T/F):f\n",
            "CORRECT\n",
            "bird\n",
            "(T/F):f\n",
            "CORRECT\n",
            "advice\n",
            "(T/F):f\n",
            "CORRECT\n",
            "tooth\n",
            "(T/F):f\n",
            "CORRECT\n",
            "nurture\n",
            "(T/F):f\n",
            "CORRECT\n"
          ],
          "name": "stdout"
        }
      ]
    }
  ]
}