{
  "nbformat": 4,
  "nbformat_minor": 0,
  "metadata": {
    "colab": {
      "name": "verbal memory code.ipynb",
      "provenance": [],
      "collapsed_sections": []
    },
    "kernelspec": {
      "name": "python3",
      "display_name": "Python 3"
    },
    "language_info": {
      "name": "python"
    }
  },
  "cells": [
    {
      "cell_type": "code",
      "metadata": {
        "id": "tIpmQSepfh1u"
      },
      "source": [
        "import random\n",
        "from time import sleep\n",
        "from IPython.display import clear_output "
      ],
      "execution_count": 15,
      "outputs": []
    },
    {
      "cell_type": "code",
      "metadata": {
        "id": "OFADKikMc1QK"
      },
      "source": [
        "word_bank = [\"length\",\"drawer\",\"dealer\",\"theory\",\"area\",\"advice\",\"guest\",\"county\",\"tooth\",\"power\",\"breath\",\"son\",\"loss\",\"method\",\"city\",\"depth\",\"orange\",\"child\",\"wealth\",\"dinner\",\"goal\",\"road\",\"volume\",\"exam\",\"wife\",\"meat\",\"music\",\"blood\",\"singer\",\"mall\",\"basket\",\"idea\",\"dirt\",\"cell\",\"policy\",\"way\",\"art\",\"player\",\"recipe\",\"girl\",\"bath\",\"throat\",\"lake\",\"nurture\",\"ear\",\"death\",\"bird\",\"speech\",\"flight\",\"thanks\"] #list of 50 randomly generated words\n",
        "random_word = random.choice(word_bank),random.choice(word_bank), random.choice(word_bank), random.choice(word_bank), random.choice(word_bank), random.choice(word_bank), random.choice(word_bank), random.choice(word_bank), random.choice(word_bank), random.choice(word_bank) #pulls 10 random words from list of 50 words\n",
        "print(random_word)\n",
        "sleep(5)\n",
        "clear_output() #clear output so that participant has to remember the word list\n"
      ],
      "execution_count": 27,
      "outputs": []
    },
    {
      "cell_type": "code",
      "metadata": {
        "colab": {
          "base_uri": "https://localhost:8080/"
        },
        "id": "HbhtiX4Ff0ES",
        "outputId": "52bc6a72-0db0-4f55-8f91-0e7a1c35a37c"
      },
      "source": [
        "new_random_word = random.choice(word_bank),random.choice(word_bank), random.choice(word_bank), random.choice(word_bank), random.choice(word_bank), random.choice(word_bank), random.choice(word_bank), random.choice(word_bank), random.choice(word_bank), random.choice(word_bank)\n",
        "print(new_random_word)\n",
        "def tf_quiz(question, correct_ans):\n",
        "    if input(\"(T/F) %s: \" % question) == correct_ans:\n",
        "        return(\"correct\")\n",
        "    else:\n",
        "        return(\"incorrect\")\n",
        "\n",
        "    if random_word.count(new_random_word[0]) > 0:\n",
        "      X = \"T\"\n",
        "    elif random_word.count(new_random_word[1]) > 0:\n",
        "      X = \"T\"\n",
        "    elif random_word.count(new_random_word[2]) > 0:\n",
        "      X = \"T\"\n",
        "    elif random_word.count(new_random_word[3]) > 0:\n",
        "      X = \"T\"\n",
        "    elif random_word.count(new_random_word[4]) > 0:\n",
        "      X = \"T\"\n",
        "    elif random_word.count(new_random_word[5]) > 0:\n",
        "      X = \"T\"\n",
        "    elif random_word.count(new_random_word[6]) > 0:\n",
        "      X = \"T\"\n",
        "    elif random_word.count(new_random_word[7]) > 0:\n",
        "      X = \"T\"\n",
        "    elif random_word.count(new_random_word[8]) > 0:\n",
        "      X = \"T\"\n",
        "    elif random_word.count(new_random_word[9]) > 0:\n",
        "      X = \"T\"\n",
        "    else:\n",
        "      X = \"F\"\n",
        "    quiz_eval = tf_quiz(new_random_word[0], X)\n",
        "    print(\"Your answer is\", quiz_eval)"
      ],
      "execution_count": 29,
      "outputs": [
        {
          "output_type": "stream",
          "text": [
            "('exam', 'advice', 'recipe', 'county', 'speech', 'music', 'county', 'art', 'policy', 'exam')\n"
          ],
          "name": "stdout"
        }
      ]
    },
    {
      "cell_type": "code",
      "metadata": {
        "id": "mtwrVxIPlrfF",
        "colab": {
          "base_uri": "https://localhost:8080/",
          "height": 232
        },
        "outputId": "56303412-4ca2-4902-f616-efd126b6fb92"
      },
      "source": [
        "#establish what is true and false\n",
        "#compare random_word to new_random_word\n",
        "#generate vector of True/False with length 10\n",
        "#Clauses: input is True\n",
        "          #ans is True\n",
        "          #return \"Correct\"\n",
        "\n",
        "          #input is False\n",
        "          #ans is False\n",
        "          #return \"Correct\"\n",
        "\n",
        "          #input is True\n",
        "          #ans is False\n",
        "          #return \"Incorrect\"\n",
        "\n",
        "          #input is False\n",
        "          #ans is True\n",
        "          #return \"Incorrect\"\n",
        "\n",
        "\n",
        "new_random_word = ('son', 'recipe', 'flight', 'way', 'advice', 'throat', 'blood', 'guest', 'length', 'goal')\n",
        "random_word = ('breath', 'son', 'nurture', 'girl', 'nurture', 'thanks', 'bird', 'dirt', 'policy', 'speech')\n",
        " \n",
        "def tf_quiz(new_random_word, random_word): #define new function with new_random_word and random_word as inputs\n",
        "    ans = input()\n",
        "    for word in new_random_word:\n",
        "      print(word)\n",
        "      if random_word.count[word] > 0: #if word is within random_word\n",
        "        X = \"T\"\n",
        "        if ans == \"T\":\n",
        "          return (\"Correct\")\n",
        "        elif ans == \"F\":\n",
        "          return (\"Incorrect\")\n",
        "      elif random_word.count[word] == 0: #if word is not within random_word\n",
        "        X = \"F\"\n",
        "        if ans == \"T\":\n",
        "          return (\"Incorrect\")\n",
        "        elif ans == \"F\":\n",
        "          return (\"Correct\")\n",
        "quiz_eval = tf_quiz(new_random_word[word], X)\n",
        "print(\"Your answer is\", quiz_eval)\n",
        "\n",
        "\n"
      ],
      "execution_count": 44,
      "outputs": [
        {
          "output_type": "error",
          "ename": "NameError",
          "evalue": "ignored",
          "traceback": [
            "\u001b[0;31m---------------------------------------------------------------------------\u001b[0m",
            "\u001b[0;31mNameError\u001b[0m                                 Traceback (most recent call last)",
            "\u001b[0;32m<ipython-input-44-eafc548e0165>\u001b[0m in \u001b[0;36m<module>\u001b[0;34m()\u001b[0m\n\u001b[1;32m     38\u001b[0m         \u001b[0;32melif\u001b[0m \u001b[0mans\u001b[0m \u001b[0;34m==\u001b[0m \u001b[0;34m\"F\"\u001b[0m\u001b[0;34m:\u001b[0m\u001b[0;34m\u001b[0m\u001b[0;34m\u001b[0m\u001b[0m\n\u001b[1;32m     39\u001b[0m           \u001b[0;32mreturn\u001b[0m \u001b[0;34m(\u001b[0m\u001b[0;34m\"Correct\"\u001b[0m\u001b[0;34m)\u001b[0m\u001b[0;34m\u001b[0m\u001b[0;34m\u001b[0m\u001b[0m\n\u001b[0;32m---> 40\u001b[0;31m \u001b[0mquiz_eval\u001b[0m \u001b[0;34m=\u001b[0m \u001b[0mtf_quiz\u001b[0m\u001b[0;34m(\u001b[0m\u001b[0mnew_random_word\u001b[0m\u001b[0;34m[\u001b[0m\u001b[0mword\u001b[0m\u001b[0;34m]\u001b[0m\u001b[0;34m,\u001b[0m \u001b[0mX\u001b[0m\u001b[0;34m)\u001b[0m\u001b[0;34m\u001b[0m\u001b[0;34m\u001b[0m\u001b[0m\n\u001b[0m\u001b[1;32m     41\u001b[0m \u001b[0mprint\u001b[0m\u001b[0;34m(\u001b[0m\u001b[0;34m\"Your answer is\"\u001b[0m\u001b[0;34m,\u001b[0m \u001b[0mquiz_eval\u001b[0m\u001b[0;34m)\u001b[0m\u001b[0;34m\u001b[0m\u001b[0;34m\u001b[0m\u001b[0m\n\u001b[1;32m     42\u001b[0m \u001b[0;34m\u001b[0m\u001b[0m\n",
            "\u001b[0;31mNameError\u001b[0m: name 'word' is not defined"
          ]
        }
      ]
    }
  ]
}