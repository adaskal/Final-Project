{
  "nbformat": 4,
  "nbformat_minor": 0,
  "metadata": {
    "colab": {
      "name": "verbal memory code.ipynb",
      "provenance": [],
      "collapsed_sections": []
    },
    "kernelspec": {
      "name": "python3",
      "display_name": "Python 3"
    },
    "language_info": {
      "name": "python"
    }
  },
  "cells": [
    {
      "cell_type": "code",
      "metadata": {
        "id": "tIpmQSepfh1u"
      },
      "source": [
        "import random\n",
        "from time import sleep"
      ],
      "execution_count": 2,
      "outputs": []
    },
    {
      "cell_type": "code",
      "metadata": {
        "colab": {
          "base_uri": "https://localhost:8080/"
        },
        "id": "OFADKikMc1QK",
        "outputId": "f16175db-cf77-4eff-bd4a-408a779b5fa6"
      },
      "source": [
        "word_bank = [\"length\",\"drawer\",\"dealer\",\"theory\",\"area\",\"advice\",\"guest\",\"county\",\"tooth\",\"power\",\"breath\",\"son\",\"loss\",\"method\",\"city\",\"depth\",\"orange\",\"child\",\"wealth\",\"dinner\",\"goal\",\"road\",\"volume\",\"exam\",\"wife\",\"meat\",\"music\",\"blood\",\"singer\",\"mall\",\"basket\",\"idea\",\"dirt\",\"cell\",\"policy\",\"way\",\"art\",\"player\",\"recipe\",\"girl\",\"bath\",\"throat\",\"lake\",\"nurture\",\"ear\",\"death\",\"bird\",\"speech\",\"flight\",\"thanks\"]\n",
        "random_word = random.choice(word_bank),random.choice(word_bank), random.choice(word_bank), random.choice(word_bank), random.choice(word_bank), random.choice(word_bank), random.choice(word_bank), random.choice(word_bank), random.choice(word_bank), random.choice(word_bank)\n",
        "print(random_word)\n",
        "sleep(5)\n",
        "print(\"\\n\"*59)\n",
        "\n"
      ],
      "execution_count": 15,
      "outputs": [
        {
          "output_type": "stream",
          "text": [
            "('flight', 'flight', 'meat', 'theory', 'blood', 'advice', 'dirt', 'county', 'art', 'wife')\n",
            "\n",
            "\n",
            "\n",
            "\n",
            "\n",
            "\n",
            "\n",
            "\n",
            "\n",
            "\n",
            "\n",
            "\n",
            "\n",
            "\n",
            "\n",
            "\n",
            "\n",
            "\n",
            "\n",
            "\n",
            "\n",
            "\n",
            "\n",
            "\n",
            "\n",
            "\n",
            "\n",
            "\n",
            "\n",
            "\n",
            "\n",
            "\n",
            "\n",
            "\n",
            "\n",
            "\n",
            "\n",
            "\n",
            "\n",
            "\n",
            "\n",
            "\n",
            "\n",
            "\n",
            "\n",
            "\n",
            "\n",
            "\n",
            "\n",
            "\n",
            "\n",
            "\n",
            "\n",
            "\n",
            "\n",
            "\n",
            "\n",
            "\n",
            "\n",
            "\n"
          ],
          "name": "stdout"
        }
      ]
    },
    {
      "cell_type": "code",
      "metadata": {
        "colab": {
          "base_uri": "https://localhost:8080/",
          "height": 232
        },
        "id": "HbhtiX4Ff0ES",
        "outputId": "d0e274ba-8acd-46ff-8bb1-989dd7940332"
      },
      "source": [
        "new_random_word = random.choice(word_bank),random.choice(word_bank), random.choice(word_bank), random.choice(word_bank), random.choice(word_bank), random.choice(word_bank), random.choice(word_bank), random.choice(word_bank), random.choice(word_bank), random.choice(word_bank)\n",
        "print(new_random_word)\n",
        "def tf_quiz(question, correct_ans):\n",
        "    if input(\"(T/F) %s: \" % question) == correct_ans:\n",
        "        return(\"correct\")\n",
        "    else:\n",
        "        return(\"incorrect\")\n",
        "\n",
        "    if random_word.count(new_random_word[0]) > 0:\n",
        "      X = \"T\"\n",
        "    elif random_word.count(new_random_word[1]) > 0:\n",
        "      X = \"T\"\n",
        "    elif random_word.count(new_random_word[2]) > 0:\n",
        "      X = \"T\"\n",
        "    elif random_word.count(new_random_word[3]) > 0:\n",
        "      X = \"T\"\n",
        "    elif random_word.count(new_random_word[4]) > 0:\n",
        "      X = \"T\"\n",
        "    elif random_word.count(new_random_word[5]) > 0:\n",
        "      X = \"T\"\n",
        "    elif random_word.count(new_random_word[6]) > 0:\n",
        "      X = \"T\"\n",
        "    elif random_word.count(new_random_word[7]) > 0:\n",
        "      X = \"T\"\n",
        "    elif random_word.count(new_random_word[8]) > 0:\n",
        "      X = \"T\"\n",
        "    elif random_word.count(new_random_word[9]) > 0:\n",
        "      X = \"T\"\n",
        "    else:\n",
        "      X = \"F\"\n",
        "quiz_eval = tf_quiz(new_random_word[0], X)\n",
        "print(\"Your answer is\", quiz_eval)"
      ],
      "execution_count": 15,
      "outputs": [
        {
          "output_type": "stream",
          "text": [
            "('lake', 'way', 'drawer', 'idea', 'flight', 'theory', 'art', 'area', 'meat', 'wealth')\n"
          ],
          "name": "stdout"
        },
        {
          "output_type": "error",
          "ename": "NameError",
          "evalue": "ignored",
          "traceback": [
            "\u001b[0;31m---------------------------------------------------------------------------\u001b[0m",
            "\u001b[0;31mNameError\u001b[0m                                 Traceback (most recent call last)",
            "\u001b[0;32m<ipython-input-15-660a9189c0c0>\u001b[0m in \u001b[0;36m<module>\u001b[0;34m()\u001b[0m\n\u001b[1;32m     29\u001b[0m     \u001b[0;32melse\u001b[0m\u001b[0;34m:\u001b[0m\u001b[0;34m\u001b[0m\u001b[0;34m\u001b[0m\u001b[0m\n\u001b[1;32m     30\u001b[0m       \u001b[0mX\u001b[0m \u001b[0;34m=\u001b[0m \u001b[0;34m\"F\"\u001b[0m\u001b[0;34m\u001b[0m\u001b[0;34m\u001b[0m\u001b[0m\n\u001b[0;32m---> 31\u001b[0;31m \u001b[0mquiz_eval\u001b[0m \u001b[0;34m=\u001b[0m \u001b[0mtf_quiz\u001b[0m\u001b[0;34m(\u001b[0m\u001b[0mnew_random_word\u001b[0m\u001b[0;34m[\u001b[0m\u001b[0;36m0\u001b[0m\u001b[0;34m]\u001b[0m\u001b[0;34m,\u001b[0m \u001b[0mX\u001b[0m\u001b[0;34m)\u001b[0m\u001b[0;34m\u001b[0m\u001b[0;34m\u001b[0m\u001b[0m\n\u001b[0m\u001b[1;32m     32\u001b[0m \u001b[0mprint\u001b[0m\u001b[0;34m(\u001b[0m\u001b[0;34m\"Your answer is\"\u001b[0m\u001b[0;34m,\u001b[0m \u001b[0mquiz_eval\u001b[0m\u001b[0;34m)\u001b[0m\u001b[0;34m\u001b[0m\u001b[0;34m\u001b[0m\u001b[0m\n",
            "\u001b[0;31mNameError\u001b[0m: name 'X' is not defined"
          ]
        }
      ]
    },
    {
      "cell_type": "code",
      "metadata": {
        "id": "mtwrVxIPlrfF"
      },
      "source": [
        "new_random_word = ('son', 'recipe', 'flight', 'way', 'advice', 'throat', 'blood', 'guest', 'length', 'goal')\n",
        "random_word = ('breath', 'son', 'nurture', 'girl', 'nurture', 'thanks', 'bird', 'dirt', 'policy', 'speech')\n",
        " \n",
        "def tf_quiz(new_random_word, random_word):\n",
        "    for word in new_random_word:\n",
        "      print(word)\n",
        "      if random_word.count[word] > 0:\n",
        "        X = \"T\"\n",
        "        if input(\"T\"):\n",
        "          return (\"Correct\")\n",
        "        elif input(\"F\"):\n",
        "          return (\"Incorrect\")\n",
        "      elif random_word.count == 0:\n",
        "        X = \"F\"\n",
        "        if input(\"T\"):\n",
        "          return (\"Incorrect\")\n",
        "        elif input(\"F\"):\n",
        "          return (\"Correct\")\n",
        "      "
      ],
      "execution_count": 7,
      "outputs": []
    }
  ]
}