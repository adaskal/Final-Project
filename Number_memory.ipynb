{
  "nbformat": 4,
  "nbformat_minor": 0,
  "metadata": {
    "colab": {
      "name": "Number_memory.ipynb",
      "provenance": []
    },
    "kernelspec": {
      "name": "python3",
      "display_name": "Python 3"
    },
    "language_info": {
      "name": "python"
    }
  },
  "cells": [
    {
      "cell_type": "code",
      "metadata": {
        "colab": {
          "base_uri": "https://localhost:8080/"
        },
        "id": "xJREnB56r_Gm",
        "outputId": "2f9a8f56-2843-464b-b42b-f5d3557054bf"
      },
      "source": [
        "import random \n",
        "a = random.randint(1,9)\n",
        "print(a)\n",
        "input() == a\n",
        "if True: \n",
        "  b = random.randint(10,99)\n",
        "  print(b)"
      ],
      "execution_count": null,
      "outputs": [
        {
          "output_type": "stream",
          "text": [
            "3\n",
            "3\n",
            "79\n",
            "79\n"
          ],
          "name": "stdout"
        }
      ]
    }
  ]
}