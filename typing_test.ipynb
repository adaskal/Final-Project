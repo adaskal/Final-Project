{
  "nbformat": 4,
  "nbformat_minor": 0,
  "metadata": {
    "colab": {
      "name": "typing_test.ipynb",
      "provenance": []
    },
    "kernelspec": {
      "name": "python3",
      "display_name": "Python 3"
    },
    "language_info": {
      "name": "python"
    }
  },
  "cells": [
    {
      "cell_type": "code",
      "metadata": {
        "colab": {
          "base_uri": "https://localhost:8080/",
          "height": 137
        },
        "id": "HV9LyIviaj-s",
        "outputId": "20d0569c-0475-4e62-ed5c-7d6540732855"
      },
      "source": [
        "from tkinter import *\n",
        "from timeit import default_timer as timer\n",
        "import random\n",
        "import time\n",
        "import math\n",
        "  \n",
        "# passage bank with 10 passages for the user to type\n",
        "# Animal Farm\n",
        "passage_1 = \"\"\"Twelve voices were shouting in anger, and they were all alike. \n",
        "No question, now, what had happened to the faces of the pigs. The creatures \n",
        "outside looked from pig to man, and from man to pig, and from pig to man again; \n",
        "but already it was impossible to say which was which.\"\"\"\n",
        "\n",
        "# 1984\n",
        "passage_2 = \"\"\"For, after all, how do we know that two and two make four? Or \n",
        "that the force of gravity works? Or that the past is unchangeable? If both the \n",
        "past and the external world exist only in the mind, and if the mind itself is \n",
        "controllable – what then?\"\"\"\n",
        "\n",
        "# Pride and Prejudice\n",
        "passage_3 = \"\"\"Vanity and pride are different things, though the words are often\n",
        "used synonymously. A person may be proud without being vain. Pride relates more \n",
        "to our opinion of ourselves, vanity to what we would have others think of us.\"\"\"\n",
        "\n",
        "# The Great Gatsby\n",
        "passage_4 = \"\"\"I couldn’t forgive him or like him, but I saw that what he had \n",
        "done was, to him, entirely justified. It was all very careless and confused. \n",
        "They were careless people, Tom and Daisy—they smashed up things and creatures \n",
        "and then retreated back into their money or their vast carelessness, or whatever \n",
        "it was that kept them together, and let other people clean up the mess they had \n",
        "made.\"\"\"\n",
        "\n",
        "# Fahrenheit 451\n",
        "passage_5 = \"\"\"We cannot tell the precise moment when friendship is formed. As \n",
        "in filling a vessel drop by drop, there is at last a drop which makes it run \n",
        "over; so in a series of kindnesses there is at last one which makes the heart \n",
        "run over.\"\"\"\n",
        "\n",
        "# To Kill a Mockingbird\n",
        "passage_6 = \"\"\"Mockingbirds don’t do one thing but make music for us to enjoy. \n",
        "They don’t eat up people’s gardens, don’t nest in corncribs, they don’t do one \n",
        "thing but sing their hearts out for us. That’s why it’s a sin to kill a \n",
        "mockingbird.\"\"\"\n",
        "\n",
        "# The Picture of Dorian Gray\n",
        "passage_7 = \"\"\"Those who find ugly meanings in beautiful things are corrupt \n",
        "without being charming. This is a fault. Those who find beautiful meanings in \n",
        "beautiful things are the cultivated. For these there is hope. They are the elect \n",
        "to whom beautiful things mean only Beauty. There is no such thing as a moral or \n",
        "an immoral book. Books are well written, or badly written. That is all.\"\"\"\n",
        "\n",
        "# The Catcher in the Rye\n",
        "passage_8 = \"\"\"What really knocks me out is a book that, when you're all done \n",
        "reading it, you wish the author that wrote it was a terrific friend of yours and \n",
        "you could call him up on the phone whenever you felt like it. That doesn't \n",
        "happen much, though.\"\"\"\n",
        "\n",
        "# Brave New World\n",
        "passage_9 = \"\"\"Did you ever feel, as though you had something inside you that \n",
        "was only waiting for you to give it a chance to come out? Some sort of extra \n",
        "power that you aren't using - you know, like all the water that goes down the \n",
        "falls instead of through the turbines?\"\"\" \n",
        "\n",
        "# Frankenstein\n",
        "passage_10 = \"\"\"Learn from me, if not by my precepts, at least by my example, \n",
        "how dangerous is the acquirement of knowledge, and how much happier that man is \n",
        "who believes his native town to be his world, than he who aspires to become \n",
        "greater than his nature will allow.\"\"\"\n",
        "\n",
        "passage_bank = [passage_1, passage_2, passage_3, passage_4, passage_5, \n",
        "                passage_6, passage_7, passage_8, passage_9, passage_10]\n",
        "\n",
        "# displays the passage the user will type\n",
        "num = random.randint(0,9)\n",
        "display(passage_bank[num])\n",
        "\n",
        "# timer begins after countdown from 3; ask for user input\n",
        "print(\"Begin typing in 3 seconds\")\n",
        "time.sleep(3)\n",
        "start_time = time.time()\n",
        "inp = input((\"Start typing: \"))\n",
        "\n",
        "# stop timer when user hits enter\n",
        "stop_time = time.time()\n",
        "\n",
        "time_elapsed_sec = (stop_time-start_time)\n",
        "print(\"time elapsed in sec: \"+str(time_elapsed_sec))\n",
        "time_elapsed_min = time_elapsed_sec/60\n",
        "print(\"time elapsed in min: \"+str(time_elapsed_min))\n",
        "\n",
        "# calculate gross wpm (how fast you type w/ no errors)\n",
        "# count number of characters in passage (includes letters, spaces, punctuation)\n",
        "inp_char = 0;\n",
        "for i in inp:\n",
        "  inp_char += 1             # number of characters in user input\n",
        "# gross wpm = (# of characters / 5) / time elapsed in min (each \"word\" is 5 characters)\n",
        "gross_wpm = math.floor((inp_char/5)/time_elapsed_min)\n",
        "print(\"gross wpm: \"+str(gross_wpm))\n",
        "\n",
        "\n",
        "\n",
        "# calculate accuracy (# of correct characters / total # of characters)\n",
        "# for loop for each word in the given passage\n",
        "# intialize a counter to 0\n",
        "# check the index with the index of the word typed by user\n",
        "# if the word at the index is the same, increase counter by 1\n",
        "# else, move to next index"
      ],
      "execution_count": 17,
      "outputs": [
        {
          "output_type": "display_data",
          "data": {
            "application/vnd.google.colaboratory.intrinsic+json": {
              "type": "string"
            },
            "text/plain": [
              "'Mockingbirds don’t do one thing but make music for us to enjoy. \\nThey don’t eat up people’s gardens, don’t nest in corncribs, they don’t do one \\nthing but sing their hearts out for us. That’s why it’s a sin to kill a \\nmockingbird.'"
            ]
          },
          "metadata": {
            "tags": []
          }
        },
        {
          "output_type": "stream",
          "text": [
            "Begin typing in 3 seconds\n",
            "Start typing: Mockingbirds don't do onne thing \n",
            "time elapsed in sec: 4.830250024795532\n",
            "time elapsed in min: 0.08050416707992554\n",
            "gross wpm: 81\n"
          ],
          "name": "stdout"
        }
      ]
    }
  ]
}